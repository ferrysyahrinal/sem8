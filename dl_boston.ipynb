{
 "cells": [
  {
   "attachments": {},
   "cell_type": "markdown",
   "metadata": {},
   "source": [
    "# ASSIGNMENT - 1"
   ]
  },
  {
   "cell_type": "code",
   "execution_count": 1,
   "metadata": {},
   "outputs": [],
   "source": [
    "from tensorflow import keras as tf_keras\n",
    "import numpy as np \n",
    "import pandas as pd \n",
    "from keras.layers import Dense\n",
    "from keras.models import Sequential"
   ]
  },
  {
   "cell_type": "code",
   "execution_count": 2,
   "metadata": {},
   "outputs": [],
   "source": [
    "(X_train, y_train), (X_test, y_test)  = tf_keras.datasets.boston_housing.load_data(\n",
    "    path=\"boston_housing.npz\", test_split=0.2, seed=42\n",
    ")"
   ]
  },
  {
   "cell_type": "code",
   "execution_count": 3,
   "metadata": {},
   "outputs": [
    {
     "name": "stdout",
     "output_type": "stream",
     "text": [
      "(404, 13) <class 'numpy.ndarray'>\n",
      "(404,) <class 'numpy.ndarray'>\n",
      "(102, 13) <class 'numpy.ndarray'>\n",
      "(102,) <class 'numpy.ndarray'>\n"
     ]
    }
   ],
   "source": [
    "print(X_train.shape, type(X_train))\n",
    "print(y_train.shape, type(y_train))\n",
    "print(X_test.shape, type(X_test))\n",
    "print(y_test.shape, type(y_test))"
   ]
  },
  {
   "cell_type": "markdown",
   "metadata": {
    "papermill": {
     "duration": 0.052899,
     "end_time": "2020-10-07T20:56:02.160829",
     "exception": false,
     "start_time": "2020-10-07T20:56:02.107930",
     "status": "completed"
    },
    "tags": []
   },
   "source": [
    "<a id  = 'NN'></a>\n",
    "## Neural Networks"
   ]
  },
  {
   "cell_type": "code",
   "execution_count": 4,
   "metadata": {
    "execution": {
     "iopub.execute_input": "2020-10-07T20:56:02.279947Z",
     "iopub.status.busy": "2020-10-07T20:56:02.279001Z",
     "iopub.status.idle": "2020-10-07T20:56:02.291535Z",
     "shell.execute_reply": "2020-10-07T20:56:02.290743Z"
    },
    "papermill": {
     "duration": 0.077294,
     "end_time": "2020-10-07T20:56:02.291688",
     "exception": false,
     "start_time": "2020-10-07T20:56:02.214394",
     "status": "completed"
    },
    "tags": []
   },
   "outputs": [],
   "source": [
    "#Scaling the dataset\n",
    "from sklearn.preprocessing import StandardScaler\n",
    "sc = StandardScaler()\n",
    "X_train = sc.fit_transform(X_train)\n",
    "X_test = sc.transform(X_test)"
   ]
  },
  {
   "cell_type": "code",
   "execution_count": 5,
   "metadata": {},
   "outputs": [],
   "source": [
    "X_train = pd.DataFrame(X_train)\n",
    "X_test = pd.DataFrame(X_test)"
   ]
  },
  {
   "cell_type": "code",
   "execution_count": 6,
   "metadata": {
    "execution": {
     "iopub.execute_input": "2020-10-07T20:56:02.521142Z",
     "iopub.status.busy": "2020-10-07T20:56:02.520202Z",
     "iopub.status.idle": "2020-10-07T20:56:02.813516Z",
     "shell.execute_reply": "2020-10-07T20:56:02.812803Z"
    },
    "papermill": {
     "duration": 0.36162,
     "end_time": "2020-10-07T20:56:02.813669",
     "exception": false,
     "start_time": "2020-10-07T20:56:02.452049",
     "status": "completed"
    },
    "tags": []
   },
   "outputs": [],
   "source": [
    "model = Sequential()\n",
    "\n",
    "model.add(Dense(128,activation  = 'relu',input_dim =13))\n",
    "model.add(Dense(64,activation  = 'relu'))\n",
    "model.add(Dense(32,activation  = 'relu'))\n",
    "model.add(Dense(16,activation  = 'relu'))\n",
    "model.add(Dense(1))\n",
    "model.compile(optimizer = 'adam',loss = 'mean_squared_error')"
   ]
  },
  {
   "cell_type": "code",
   "execution_count": 7,
   "metadata": {
    "execution": {
     "iopub.execute_input": "2020-10-07T20:56:02.934653Z",
     "iopub.status.busy": "2020-10-07T20:56:02.933663Z",
     "iopub.status.idle": "2020-10-07T20:56:07.137189Z",
     "shell.execute_reply": "2020-10-07T20:56:07.137910Z"
    },
    "papermill": {
     "duration": 4.268213,
     "end_time": "2020-10-07T20:56:07.138097",
     "exception": false,
     "start_time": "2020-10-07T20:56:02.869884",
     "status": "completed"
    },
    "tags": []
   },
   "outputs": [
    {
     "name": "stdout",
     "output_type": "stream",
     "text": [
      "Epoch 1/100\n",
      "13/13 [==============================] - 1s 3ms/step - loss: 574.2455\n",
      "Epoch 2/100\n",
      "13/13 [==============================] - 0s 4ms/step - loss: 508.1576\n",
      "Epoch 3/100\n",
      "13/13 [==============================] - 0s 4ms/step - loss: 350.5093\n",
      "Epoch 4/100\n",
      "13/13 [==============================] - 0s 5ms/step - loss: 121.1018\n",
      "Epoch 5/100\n",
      "13/13 [==============================] - 0s 4ms/step - loss: 73.3130\n",
      "Epoch 6/100\n",
      "13/13 [==============================] - 0s 3ms/step - loss: 40.5427\n",
      "Epoch 7/100\n",
      "13/13 [==============================] - 0s 6ms/step - loss: 27.5808\n",
      "Epoch 8/100\n",
      "13/13 [==============================] - 0s 5ms/step - loss: 21.7691\n",
      "Epoch 9/100\n",
      "13/13 [==============================] - 0s 3ms/step - loss: 18.8968\n",
      "Epoch 10/100\n",
      "13/13 [==============================] - 0s 3ms/step - loss: 17.3513\n",
      "Epoch 11/100\n",
      "13/13 [==============================] - 0s 5ms/step - loss: 15.8579\n",
      "Epoch 12/100\n",
      "13/13 [==============================] - 0s 5ms/step - loss: 14.8099\n",
      "Epoch 13/100\n",
      "13/13 [==============================] - 0s 5ms/step - loss: 14.5831\n",
      "Epoch 14/100\n",
      "13/13 [==============================] - 0s 5ms/step - loss: 13.8711\n",
      "Epoch 15/100\n",
      "13/13 [==============================] - 0s 4ms/step - loss: 13.0593\n",
      "Epoch 16/100\n",
      "13/13 [==============================] - 0s 3ms/step - loss: 12.8161\n",
      "Epoch 17/100\n",
      "13/13 [==============================] - 0s 3ms/step - loss: 12.2818\n",
      "Epoch 18/100\n",
      "13/13 [==============================] - 0s 5ms/step - loss: 11.9380\n",
      "Epoch 19/100\n",
      "13/13 [==============================] - 0s 5ms/step - loss: 11.6103\n",
      "Epoch 20/100\n",
      "13/13 [==============================] - 0s 5ms/step - loss: 11.3452\n",
      "Epoch 21/100\n",
      "13/13 [==============================] - 0s 4ms/step - loss: 11.4151\n",
      "Epoch 22/100\n",
      "13/13 [==============================] - 0s 4ms/step - loss: 11.1597\n",
      "Epoch 23/100\n",
      "13/13 [==============================] - 0s 3ms/step - loss: 10.7874\n",
      "Epoch 24/100\n",
      "13/13 [==============================] - 0s 4ms/step - loss: 10.5891\n",
      "Epoch 25/100\n",
      "13/13 [==============================] - 0s 4ms/step - loss: 10.3773\n",
      "Epoch 26/100\n",
      "13/13 [==============================] - 0s 5ms/step - loss: 10.2290\n",
      "Epoch 27/100\n",
      "13/13 [==============================] - 0s 4ms/step - loss: 9.9926\n",
      "Epoch 28/100\n",
      "13/13 [==============================] - 0s 2ms/step - loss: 9.9411\n",
      "Epoch 29/100\n",
      "13/13 [==============================] - 0s 5ms/step - loss: 9.8349\n",
      "Epoch 30/100\n",
      "13/13 [==============================] - 0s 4ms/step - loss: 9.6531\n",
      "Epoch 31/100\n",
      "13/13 [==============================] - 0s 5ms/step - loss: 9.6683\n",
      "Epoch 32/100\n",
      "13/13 [==============================] - 0s 3ms/step - loss: 9.4620\n",
      "Epoch 33/100\n",
      "13/13 [==============================] - 0s 3ms/step - loss: 9.1977\n",
      "Epoch 34/100\n",
      "13/13 [==============================] - 0s 4ms/step - loss: 9.1990\n",
      "Epoch 35/100\n",
      "13/13 [==============================] - 0s 3ms/step - loss: 9.0357\n",
      "Epoch 36/100\n",
      "13/13 [==============================] - 0s 3ms/step - loss: 9.1215\n",
      "Epoch 37/100\n",
      "13/13 [==============================] - 0s 3ms/step - loss: 9.0556\n",
      "Epoch 38/100\n",
      "13/13 [==============================] - 0s 3ms/step - loss: 8.4703\n",
      "Epoch 39/100\n",
      "13/13 [==============================] - 0s 3ms/step - loss: 8.3674\n",
      "Epoch 40/100\n",
      "13/13 [==============================] - 0s 2ms/step - loss: 8.2064\n",
      "Epoch 41/100\n",
      "13/13 [==============================] - 0s 3ms/step - loss: 8.2295\n",
      "Epoch 42/100\n",
      "13/13 [==============================] - 0s 4ms/step - loss: 8.3428\n",
      "Epoch 43/100\n",
      "13/13 [==============================] - 0s 4ms/step - loss: 8.3933\n",
      "Epoch 44/100\n",
      "13/13 [==============================] - 0s 4ms/step - loss: 7.5717\n",
      "Epoch 45/100\n",
      "13/13 [==============================] - 0s 4ms/step - loss: 7.9556\n",
      "Epoch 46/100\n",
      "13/13 [==============================] - 0s 4ms/step - loss: 8.1315\n",
      "Epoch 47/100\n",
      "13/13 [==============================] - 0s 4ms/step - loss: 7.5901\n",
      "Epoch 48/100\n",
      "13/13 [==============================] - 0s 4ms/step - loss: 7.4187\n",
      "Epoch 49/100\n",
      "13/13 [==============================] - 0s 4ms/step - loss: 7.1545\n",
      "Epoch 50/100\n",
      "13/13 [==============================] - 0s 4ms/step - loss: 7.2183\n",
      "Epoch 51/100\n",
      "13/13 [==============================] - 0s 5ms/step - loss: 6.9077\n",
      "Epoch 52/100\n",
      "13/13 [==============================] - 0s 4ms/step - loss: 6.7127\n",
      "Epoch 53/100\n",
      "13/13 [==============================] - 0s 2ms/step - loss: 6.8292\n",
      "Epoch 54/100\n",
      "13/13 [==============================] - 0s 2ms/step - loss: 6.9590\n",
      "Epoch 55/100\n",
      "13/13 [==============================] - 0s 2ms/step - loss: 6.3969\n",
      "Epoch 56/100\n",
      "13/13 [==============================] - 0s 3ms/step - loss: 6.2653\n",
      "Epoch 57/100\n",
      "13/13 [==============================] - 0s 4ms/step - loss: 6.1619\n",
      "Epoch 58/100\n",
      "13/13 [==============================] - 0s 4ms/step - loss: 6.0997\n",
      "Epoch 59/100\n",
      "13/13 [==============================] - 0s 4ms/step - loss: 6.0909\n",
      "Epoch 60/100\n",
      "13/13 [==============================] - 0s 4ms/step - loss: 6.1137\n",
      "Epoch 61/100\n",
      "13/13 [==============================] - 0s 7ms/step - loss: 5.6456\n",
      "Epoch 62/100\n",
      "13/13 [==============================] - 0s 4ms/step - loss: 5.5232\n",
      "Epoch 63/100\n",
      "13/13 [==============================] - 0s 4ms/step - loss: 5.5066\n",
      "Epoch 64/100\n",
      "13/13 [==============================] - 0s 4ms/step - loss: 5.5083\n",
      "Epoch 65/100\n",
      "13/13 [==============================] - 0s 5ms/step - loss: 5.6469\n",
      "Epoch 66/100\n",
      "13/13 [==============================] - 0s 3ms/step - loss: 5.3307\n",
      "Epoch 67/100\n",
      "13/13 [==============================] - 0s 3ms/step - loss: 5.1085\n",
      "Epoch 68/100\n",
      "13/13 [==============================] - 0s 2ms/step - loss: 5.0270\n",
      "Epoch 69/100\n",
      "13/13 [==============================] - 0s 3ms/step - loss: 4.9254\n",
      "Epoch 70/100\n",
      "13/13 [==============================] - 0s 4ms/step - loss: 5.0670\n",
      "Epoch 71/100\n",
      "13/13 [==============================] - 0s 4ms/step - loss: 4.9995\n",
      "Epoch 72/100\n",
      "13/13 [==============================] - 0s 4ms/step - loss: 4.8208\n",
      "Epoch 73/100\n",
      "13/13 [==============================] - 0s 5ms/step - loss: 4.9040\n",
      "Epoch 74/100\n",
      "13/13 [==============================] - 0s 4ms/step - loss: 4.8341\n",
      "Epoch 75/100\n",
      "13/13 [==============================] - 0s 2ms/step - loss: 4.9253\n",
      "Epoch 76/100\n",
      "13/13 [==============================] - 0s 4ms/step - loss: 4.7143\n",
      "Epoch 77/100\n",
      "13/13 [==============================] - 0s 4ms/step - loss: 4.4163\n",
      "Epoch 78/100\n",
      "13/13 [==============================] - 0s 4ms/step - loss: 4.3368\n",
      "Epoch 79/100\n",
      "13/13 [==============================] - 0s 4ms/step - loss: 4.1678\n",
      "Epoch 80/100\n",
      "13/13 [==============================] - 0s 4ms/step - loss: 4.2021\n",
      "Epoch 81/100\n",
      "13/13 [==============================] - 0s 4ms/step - loss: 4.2501\n",
      "Epoch 82/100\n",
      "13/13 [==============================] - 0s 4ms/step - loss: 4.7184\n",
      "Epoch 83/100\n",
      "13/13 [==============================] - 0s 4ms/step - loss: 4.5815\n",
      "Epoch 84/100\n",
      "13/13 [==============================] - 0s 4ms/step - loss: 4.1921\n",
      "Epoch 85/100\n",
      "13/13 [==============================] - 0s 4ms/step - loss: 4.0677\n",
      "Epoch 86/100\n",
      "13/13 [==============================] - 0s 4ms/step - loss: 4.0892\n",
      "Epoch 87/100\n",
      "13/13 [==============================] - 0s 5ms/step - loss: 4.1428\n",
      "Epoch 88/100\n",
      "13/13 [==============================] - 0s 4ms/step - loss: 4.0464\n",
      "Epoch 89/100\n",
      "13/13 [==============================] - 0s 4ms/step - loss: 3.8546\n",
      "Epoch 90/100\n",
      "13/13 [==============================] - 0s 3ms/step - loss: 3.6802\n",
      "Epoch 91/100\n",
      "13/13 [==============================] - 0s 4ms/step - loss: 3.8821\n",
      "Epoch 92/100\n",
      "13/13 [==============================] - 0s 4ms/step - loss: 4.3444\n",
      "Epoch 93/100\n",
      "13/13 [==============================] - 0s 4ms/step - loss: 4.0653\n",
      "Epoch 94/100\n",
      "13/13 [==============================] - 0s 4ms/step - loss: 3.7833\n",
      "Epoch 95/100\n",
      "13/13 [==============================] - 0s 4ms/step - loss: 3.6636\n",
      "Epoch 96/100\n",
      "13/13 [==============================] - 0s 4ms/step - loss: 3.5305\n",
      "Epoch 97/100\n",
      "13/13 [==============================] - 0s 4ms/step - loss: 3.6185\n",
      "Epoch 98/100\n",
      "13/13 [==============================] - 0s 4ms/step - loss: 3.5249\n",
      "Epoch 99/100\n",
      "13/13 [==============================] - 0s 4ms/step - loss: 3.3836\n",
      "Epoch 100/100\n",
      "13/13 [==============================] - 0s 4ms/step - loss: 3.4637\n"
     ]
    },
    {
     "data": {
      "text/plain": [
       "<keras.src.callbacks.History at 0x1b7040d13c0>"
      ]
     },
     "execution_count": 7,
     "metadata": {},
     "output_type": "execute_result"
    }
   ],
   "source": [
    "model.fit(X_train, y_train, epochs = 100)"
   ]
  },
  {
   "cell_type": "markdown",
   "metadata": {
    "papermill": {
     "duration": 0.144695,
     "end_time": "2020-10-07T20:56:07.429767",
     "exception": false,
     "start_time": "2020-10-07T20:56:07.285072",
     "status": "completed"
    },
    "tags": []
   },
   "source": [
    "<a id = 'eval'></a>\n",
    "### Evaluation of the model"
   ]
  },
  {
   "cell_type": "code",
   "execution_count": 8,
   "metadata": {
    "execution": {
     "iopub.execute_input": "2020-10-07T20:56:07.725859Z",
     "iopub.status.busy": "2020-10-07T20:56:07.724391Z",
     "iopub.status.idle": "2020-10-07T20:56:07.944661Z",
     "shell.execute_reply": "2020-10-07T20:56:07.945236Z"
    },
    "papermill": {
     "duration": 0.370667,
     "end_time": "2020-10-07T20:56:07.945463",
     "exception": false,
     "start_time": "2020-10-07T20:56:07.574796",
     "status": "completed"
    },
    "tags": []
   },
   "outputs": [
    {
     "name": "stdout",
     "output_type": "stream",
     "text": [
      "4/4 [==============================] - 0s 4ms/step\n"
     ]
    }
   ],
   "source": [
    "y_pred = model.predict(X_test)"
   ]
  },
  {
   "cell_type": "code",
   "execution_count": 9,
   "metadata": {
    "execution": {
     "iopub.execute_input": "2020-10-07T20:56:08.252035Z",
     "iopub.status.busy": "2020-10-07T20:56:08.251041Z",
     "iopub.status.idle": "2020-10-07T20:56:08.255851Z",
     "shell.execute_reply": "2020-10-07T20:56:08.255145Z"
    },
    "papermill": {
     "duration": 0.159132,
     "end_time": "2020-10-07T20:56:08.255991",
     "exception": false,
     "start_time": "2020-10-07T20:56:08.096859",
     "status": "completed"
    },
    "tags": []
   },
   "outputs": [
    {
     "name": "stdout",
     "output_type": "stream",
     "text": [
      "0.8636932934776971\n"
     ]
    }
   ],
   "source": [
    "from sklearn.metrics import r2_score\n",
    "r2 = r2_score(y_test, y_pred)\n",
    "print(r2)"
   ]
  },
  {
   "cell_type": "code",
   "execution_count": 10,
   "metadata": {
    "execution": {
     "iopub.execute_input": "2020-10-07T20:56:08.557357Z",
     "iopub.status.busy": "2020-10-07T20:56:08.556409Z",
     "iopub.status.idle": "2020-10-07T20:56:08.560011Z",
     "shell.execute_reply": "2020-10-07T20:56:08.560689Z"
    },
    "papermill": {
     "duration": 0.156747,
     "end_time": "2020-10-07T20:56:08.560855",
     "exception": false,
     "start_time": "2020-10-07T20:56:08.404108",
     "status": "completed"
    },
    "tags": []
   },
   "outputs": [
    {
     "name": "stdout",
     "output_type": "stream",
     "text": [
      "3.1153349284095877\n"
     ]
    }
   ],
   "source": [
    "# Predicting RMSE the Test set results\n",
    "from sklearn.metrics import mean_squared_error\n",
    "rmse = (np.sqrt(mean_squared_error(y_test, y_pred)))\n",
    "print(rmse)"
   ]
  },
  {
   "cell_type": "markdown",
   "metadata": {
    "papermill": {
     "duration": 0.145421,
     "end_time": "2020-10-07T20:56:08.851425",
     "exception": false,
     "start_time": "2020-10-07T20:56:08.706004",
     "status": "completed"
    },
    "tags": []
   },
   "source": [
    "<a id = 'conclude'></a>\n",
    "## Conclusion\n",
    "\n",
    "Using a simple neural network, we were able to improve the model significantly. I encourage you to try alterating the hyperparameters of the model and see if you can get better model"
   ]
  }
 ],
 "metadata": {
  "kernelspec": {
   "display_name": "Python 3",
   "language": "python",
   "name": "python3"
  },
  "language_info": {
   "codemirror_mode": {
    "name": "ipython",
    "version": 3
   },
   "file_extension": ".py",
   "mimetype": "text/x-python",
   "name": "python",
   "nbconvert_exporter": "python",
   "pygments_lexer": "ipython3",
   "version": "3.10.11"
  },
  "papermill": {
   "duration": 28.602522,
   "end_time": "2020-10-07T20:56:09.403032",
   "environment_variables": {},
   "exception": null,
   "input_path": "__notebook__.ipynb",
   "output_path": "__notebook__.ipynb",
   "parameters": {},
   "start_time": "2020-10-07T20:55:40.800510",
   "version": "2.1.0"
  }
 },
 "nbformat": 4,
 "nbformat_minor": 4
}
